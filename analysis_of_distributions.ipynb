{
 "cells": [
  {
   "cell_type": "code",
   "execution_count": 1,
   "metadata": {
    "collapsed": true
   },
   "outputs": [],
   "source": [
    "#Analyzing data using statistical distributions\n",
    "#Import libraries \n",
    "import os\n",
    "import numpy as np\n",
    "import pandas as pd\n",
    "import matplotlib.pyplot as plt\n",
    "import scipy.stats as stats\n",
    "%matplotlib inline"
   ]
  },
  {
   "cell_type": "code",
   "execution_count": 5,
   "metadata": {
    "collapsed": true
   },
   "outputs": [],
   "source": [
    "#get dataset\n",
    "data=pd.read_csv('office_supply.csv')"
   ]
  },
  {
   "cell_type": "code",
   "execution_count": 6,
   "metadata": {
    "collapsed": false
   },
   "outputs": [
    {
     "data": {
      "text/html": [
       "<div>\n",
       "<table border=\"1\" class=\"dataframe\">\n",
       "  <thead>\n",
       "    <tr style=\"text-align: right;\">\n",
       "      <th></th>\n",
       "      <th>Customer Number</th>\n",
       "      <th>Service Level</th>\n",
       "      <th>Campaign Period Sales</th>\n",
       "      <th>Date of Last Transaction</th>\n",
       "      <th>Date of First Purchase</th>\n",
       "      <th>Number of Transactions</th>\n",
       "      <th>Do Not Direct Mail Solicit</th>\n",
       "      <th>Do Not Email</th>\n",
       "      <th>Do Not Telemarket</th>\n",
       "      <th>Repurchase Method</th>\n",
       "      <th>...</th>\n",
       "      <th>Executive Chair</th>\n",
       "      <th>Standard Chair</th>\n",
       "      <th>Monitor</th>\n",
       "      <th>Printer</th>\n",
       "      <th>Computer</th>\n",
       "      <th>Insurance</th>\n",
       "      <th>Toner</th>\n",
       "      <th>Office Supplies</th>\n",
       "      <th>Number of Employees</th>\n",
       "      <th>Language</th>\n",
       "    </tr>\n",
       "  </thead>\n",
       "  <tbody>\n",
       "    <tr>\n",
       "      <th>0</th>\n",
       "      <td>2074199</td>\n",
       "      <td>Standard</td>\n",
       "      <td>$107.16</td>\n",
       "      <td>9/11/15</td>\n",
       "      <td>8/1/65</td>\n",
       "      <td>20</td>\n",
       "      <td>False</td>\n",
       "      <td>False</td>\n",
       "      <td>False</td>\n",
       "      <td>NOTICE</td>\n",
       "      <td>...</td>\n",
       "      <td>N</td>\n",
       "      <td>N</td>\n",
       "      <td>N</td>\n",
       "      <td>N</td>\n",
       "      <td>N</td>\n",
       "      <td>N</td>\n",
       "      <td>N</td>\n",
       "      <td>Y</td>\n",
       "      <td>5-Jan</td>\n",
       "      <td>English</td>\n",
       "    </tr>\n",
       "    <tr>\n",
       "      <th>1</th>\n",
       "      <td>30376164</td>\n",
       "      <td>Premier</td>\n",
       "      <td>$110.66</td>\n",
       "      <td>2/26/15</td>\n",
       "      <td>1/15/26</td>\n",
       "      <td>2</td>\n",
       "      <td>False</td>\n",
       "      <td>False</td>\n",
       "      <td>False</td>\n",
       "      <td>NOTICE</td>\n",
       "      <td>...</td>\n",
       "      <td>N</td>\n",
       "      <td>N</td>\n",
       "      <td>N</td>\n",
       "      <td>N</td>\n",
       "      <td>N</td>\n",
       "      <td>N</td>\n",
       "      <td>N</td>\n",
       "      <td>N</td>\n",
       "      <td>5-Jan</td>\n",
       "      <td>NaN</td>\n",
       "    </tr>\n",
       "    <tr>\n",
       "      <th>2</th>\n",
       "      <td>16464340</td>\n",
       "      <td>Premier</td>\n",
       "      <td>$4,697.62</td>\n",
       "      <td>1/9/03</td>\n",
       "      <td>9/15/63</td>\n",
       "      <td>12</td>\n",
       "      <td>False</td>\n",
       "      <td>True</td>\n",
       "      <td>False</td>\n",
       "      <td>NOTICE</td>\n",
       "      <td>...</td>\n",
       "      <td>Y</td>\n",
       "      <td>N</td>\n",
       "      <td>N</td>\n",
       "      <td>N</td>\n",
       "      <td>N</td>\n",
       "      <td>N</td>\n",
       "      <td>Y</td>\n",
       "      <td>Y</td>\n",
       "      <td></td>\n",
       "      <td>NaN</td>\n",
       "    </tr>\n",
       "    <tr>\n",
       "      <th>3</th>\n",
       "      <td>6471170</td>\n",
       "      <td>Premier</td>\n",
       "      <td>$103.08</td>\n",
       "      <td>6/23/16</td>\n",
       "      <td>1/15/86</td>\n",
       "      <td>9</td>\n",
       "      <td>False</td>\n",
       "      <td>False</td>\n",
       "      <td>False</td>\n",
       "      <td>AUTO RENEW</td>\n",
       "      <td>...</td>\n",
       "      <td>N</td>\n",
       "      <td>N</td>\n",
       "      <td>N</td>\n",
       "      <td>N</td>\n",
       "      <td>N</td>\n",
       "      <td>N</td>\n",
       "      <td>Y</td>\n",
       "      <td>Y</td>\n",
       "      <td>5-Jan</td>\n",
       "      <td>English</td>\n",
       "    </tr>\n",
       "    <tr>\n",
       "      <th>4</th>\n",
       "      <td>56184607</td>\n",
       "      <td>Premier</td>\n",
       "      <td>($566.50)</td>\n",
       "      <td>6/6/17</td>\n",
       "      <td>10/31/14</td>\n",
       "      <td>1</td>\n",
       "      <td>True</td>\n",
       "      <td>True</td>\n",
       "      <td>True</td>\n",
       "      <td>NOTICE</td>\n",
       "      <td>...</td>\n",
       "      <td>N</td>\n",
       "      <td>N</td>\n",
       "      <td>N</td>\n",
       "      <td>N</td>\n",
       "      <td>N</td>\n",
       "      <td>N</td>\n",
       "      <td>N</td>\n",
       "      <td>N</td>\n",
       "      <td></td>\n",
       "      <td>NaN</td>\n",
       "    </tr>\n",
       "    <tr>\n",
       "      <th>5</th>\n",
       "      <td>14301160</td>\n",
       "      <td>Premier</td>\n",
       "      <td>$35.12</td>\n",
       "      <td>11/17/17</td>\n",
       "      <td>4/1/51</td>\n",
       "      <td>18</td>\n",
       "      <td>False</td>\n",
       "      <td>False</td>\n",
       "      <td>False</td>\n",
       "      <td>NOTICE</td>\n",
       "      <td>...</td>\n",
       "      <td>Y</td>\n",
       "      <td>N</td>\n",
       "      <td>N</td>\n",
       "      <td>Y</td>\n",
       "      <td>N</td>\n",
       "      <td>N</td>\n",
       "      <td>N</td>\n",
       "      <td>Y</td>\n",
       "      <td>5-Jan</td>\n",
       "      <td>English</td>\n",
       "    </tr>\n",
       "    <tr>\n",
       "      <th>6</th>\n",
       "      <td>1809494</td>\n",
       "      <td>Premier</td>\n",
       "      <td>$1,777.20</td>\n",
       "      <td>5/19/15</td>\n",
       "      <td>7/15/48</td>\n",
       "      <td>11</td>\n",
       "      <td>False</td>\n",
       "      <td>False</td>\n",
       "      <td>False</td>\n",
       "      <td>NOTICE</td>\n",
       "      <td>...</td>\n",
       "      <td>Y</td>\n",
       "      <td>N</td>\n",
       "      <td>N</td>\n",
       "      <td>N</td>\n",
       "      <td>N</td>\n",
       "      <td>N</td>\n",
       "      <td>N</td>\n",
       "      <td>N</td>\n",
       "      <td></td>\n",
       "      <td>NaN</td>\n",
       "    </tr>\n",
       "    <tr>\n",
       "      <th>7</th>\n",
       "      <td>27878500</td>\n",
       "      <td>Premier</td>\n",
       "      <td>$1,006.33</td>\n",
       "      <td>6/10/16</td>\n",
       "      <td>12/15/46</td>\n",
       "      <td>1</td>\n",
       "      <td>False</td>\n",
       "      <td>True</td>\n",
       "      <td>False</td>\n",
       "      <td>NOTICE</td>\n",
       "      <td>...</td>\n",
       "      <td>N</td>\n",
       "      <td>N</td>\n",
       "      <td>N</td>\n",
       "      <td>N</td>\n",
       "      <td>N</td>\n",
       "      <td>N</td>\n",
       "      <td>N</td>\n",
       "      <td>N</td>\n",
       "      <td></td>\n",
       "      <td>NaN</td>\n",
       "    </tr>\n",
       "    <tr>\n",
       "      <th>8</th>\n",
       "      <td>49396865</td>\n",
       "      <td>Premier</td>\n",
       "      <td>$2,572.96</td>\n",
       "      <td>1/1/15</td>\n",
       "      <td>5/15/53</td>\n",
       "      <td>6</td>\n",
       "      <td>False</td>\n",
       "      <td>False</td>\n",
       "      <td>False</td>\n",
       "      <td>AUTO RENEW</td>\n",
       "      <td>...</td>\n",
       "      <td>Y</td>\n",
       "      <td>N</td>\n",
       "      <td>N</td>\n",
       "      <td>N</td>\n",
       "      <td>N</td>\n",
       "      <td>Y</td>\n",
       "      <td>N</td>\n",
       "      <td>N</td>\n",
       "      <td></td>\n",
       "      <td>NaN</td>\n",
       "    </tr>\n",
       "    <tr>\n",
       "      <th>9</th>\n",
       "      <td>23849132</td>\n",
       "      <td>Premier</td>\n",
       "      <td>($421.83)</td>\n",
       "      <td>10/2/17</td>\n",
       "      <td>5/15/66</td>\n",
       "      <td>3</td>\n",
       "      <td>True</td>\n",
       "      <td>True</td>\n",
       "      <td>True</td>\n",
       "      <td>NOTICE</td>\n",
       "      <td>...</td>\n",
       "      <td>N</td>\n",
       "      <td>N</td>\n",
       "      <td>N</td>\n",
       "      <td>N</td>\n",
       "      <td>N</td>\n",
       "      <td>N</td>\n",
       "      <td>N</td>\n",
       "      <td>N</td>\n",
       "      <td></td>\n",
       "      <td>NaN</td>\n",
       "    </tr>\n",
       "  </tbody>\n",
       "</table>\n",
       "<p>10 rows × 23 columns</p>\n",
       "</div>"
      ],
      "text/plain": [
       "   Customer Number Service Level  Campaign Period Sales   \\\n",
       "0          2074199      Standard                $107.16    \n",
       "1         30376164       Premier                $110.66    \n",
       "2         16464340       Premier              $4,697.62    \n",
       "3          6471170       Premier                $103.08    \n",
       "4         56184607       Premier               ($566.50)   \n",
       "5         14301160       Premier                 $35.12    \n",
       "6          1809494       Premier              $1,777.20    \n",
       "7         27878500       Premier              $1,006.33    \n",
       "8         49396865       Premier              $2,572.96    \n",
       "9         23849132       Premier               ($421.83)   \n",
       "\n",
       "   Date of Last Transaction  Date of First Purchase  Number of Transactions  \\\n",
       "0                    9/11/15                 8/1/65                      20   \n",
       "1                    2/26/15                1/15/26                       2   \n",
       "2                     1/9/03                9/15/63                      12   \n",
       "3                    6/23/16                1/15/86                       9   \n",
       "4                     6/6/17               10/31/14                       1   \n",
       "5                   11/17/17                 4/1/51                      18   \n",
       "6                    5/19/15                7/15/48                      11   \n",
       "7                    6/10/16               12/15/46                       1   \n",
       "8                     1/1/15                5/15/53                       6   \n",
       "9                    10/2/17                5/15/66                       3   \n",
       "\n",
       "  Do Not Direct Mail Solicit Do Not Email Do Not Telemarket Repurchase Method  \\\n",
       "0                      False        False             False            NOTICE   \n",
       "1                      False        False             False            NOTICE   \n",
       "2                      False         True             False            NOTICE   \n",
       "3                      False        False             False        AUTO RENEW   \n",
       "4                       True         True              True            NOTICE   \n",
       "5                      False        False             False            NOTICE   \n",
       "6                      False        False             False            NOTICE   \n",
       "7                      False         True             False            NOTICE   \n",
       "8                      False        False             False        AUTO RENEW   \n",
       "9                       True         True              True            NOTICE   \n",
       "\n",
       "    ...    Executive Chair Standard Chair Monitor Printer Computer Insurance  \\\n",
       "0   ...                  N              N       N       N        N         N   \n",
       "1   ...                  N              N       N       N        N         N   \n",
       "2   ...                  Y              N       N       N        N         N   \n",
       "3   ...                  N              N       N       N        N         N   \n",
       "4   ...                  N              N       N       N        N         N   \n",
       "5   ...                  Y              N       N       Y        N         N   \n",
       "6   ...                  Y              N       N       N        N         N   \n",
       "7   ...                  N              N       N       N        N         N   \n",
       "8   ...                  Y              N       N       N        N         Y   \n",
       "9   ...                  N              N       N       N        N         N   \n",
       "\n",
       "  Toner Office Supplies Number of Employees Language  \n",
       "0     N               Y               5-Jan  English  \n",
       "1     N               N               5-Jan      NaN  \n",
       "2     Y               Y                          NaN  \n",
       "3     Y               Y               5-Jan  English  \n",
       "4     N               N                          NaN  \n",
       "5     N               Y               5-Jan  English  \n",
       "6     N               N                          NaN  \n",
       "7     N               N                          NaN  \n",
       "8     N               N                          NaN  \n",
       "9     N               N                          NaN  \n",
       "\n",
       "[10 rows x 23 columns]"
      ]
     },
     "execution_count": 6,
     "metadata": {},
     "output_type": "execute_result"
    }
   ],
   "source": [
    "#take a look at the data\n",
    "data[:10]"
   ]
  },
  {
   "cell_type": "code",
   "execution_count": 7,
   "metadata": {
    "collapsed": false
   },
   "outputs": [
    {
     "data": {
      "text/plain": [
       "Index(['Customer Number', 'Service Level', ' Campaign Period Sales ',\n",
       "       ' Date of Last Transaction ', 'Date of First Purchase',\n",
       "       'Number of Transactions', 'Do Not Direct Mail Solicit', 'Do Not Email',\n",
       "       'Do Not Telemarket', 'Repurchase Method', 'Last Transaction Channel',\n",
       "       'Email Available', 'Desk', 'Executive Chair', 'Standard Chair',\n",
       "       'Monitor', 'Printer', 'Computer', 'Insurance', 'Toner',\n",
       "       'Office Supplies', 'Number of Employees', 'Language'],\n",
       "      dtype='object')"
      ]
     },
     "execution_count": 7,
     "metadata": {},
     "output_type": "execute_result"
    }
   ],
   "source": [
    "#let's take a look at the column names\n",
    "data.columns"
   ]
  },
  {
   "cell_type": "code",
   "execution_count": 8,
   "metadata": {
    "collapsed": true
   },
   "outputs": [],
   "source": [
    "#now lets make the column names lowercase and remove the spaces\n",
    "data.columns=[col.strip().replace(' ', '_').lower() for col in data.columns]"
   ]
  },
  {
   "cell_type": "code",
   "execution_count": 9,
   "metadata": {
    "collapsed": false
   },
   "outputs": [
    {
     "data": {
      "text/plain": [
       "Index(['customer_number', 'service_level', 'campaign_period_sales',\n",
       "       'date_of_last_transaction', 'date_of_first_purchase',\n",
       "       'number_of_transactions', 'do_not_direct_mail_solicit', 'do_not_email',\n",
       "       'do_not_telemarket', 'repurchase_method', 'last_transaction_channel',\n",
       "       'email_available', 'desk', 'executive_chair', 'standard_chair',\n",
       "       'monitor', 'printer', 'computer', 'insurance', 'toner',\n",
       "       'office_supplies', 'number_of_employees', 'language'],\n",
       "      dtype='object')"
      ]
     },
     "execution_count": 9,
     "metadata": {},
     "output_type": "execute_result"
    }
   ],
   "source": [
    "data.columns"
   ]
  },
  {
   "cell_type": "code",
   "execution_count": 10,
   "metadata": {
    "collapsed": true
   },
   "outputs": [],
   "source": [
    "#now that our columns are ready for analysis, let's extract that necessary columns for our analysis \n",
    "data=data[['campaign_period_sales','number_of_transactions']]"
   ]
  },
  {
   "cell_type": "code",
   "execution_count": 11,
   "metadata": {
    "collapsed": false
   },
   "outputs": [
    {
     "data": {
      "text/html": [
       "<div>\n",
       "<table border=\"1\" class=\"dataframe\">\n",
       "  <thead>\n",
       "    <tr style=\"text-align: right;\">\n",
       "      <th></th>\n",
       "      <th>campaign_period_sales</th>\n",
       "      <th>number_of_transactions</th>\n",
       "    </tr>\n",
       "  </thead>\n",
       "  <tbody>\n",
       "    <tr>\n",
       "      <th>0</th>\n",
       "      <td>$107.16</td>\n",
       "      <td>20</td>\n",
       "    </tr>\n",
       "    <tr>\n",
       "      <th>1</th>\n",
       "      <td>$110.66</td>\n",
       "      <td>2</td>\n",
       "    </tr>\n",
       "    <tr>\n",
       "      <th>2</th>\n",
       "      <td>$4,697.62</td>\n",
       "      <td>12</td>\n",
       "    </tr>\n",
       "    <tr>\n",
       "      <th>3</th>\n",
       "      <td>$103.08</td>\n",
       "      <td>9</td>\n",
       "    </tr>\n",
       "    <tr>\n",
       "      <th>4</th>\n",
       "      <td>($566.50)</td>\n",
       "      <td>1</td>\n",
       "    </tr>\n",
       "  </tbody>\n",
       "</table>\n",
       "</div>"
      ],
      "text/plain": [
       "  campaign_period_sales  number_of_transactions\n",
       "0              $107.16                       20\n",
       "1              $110.66                        2\n",
       "2            $4,697.62                       12\n",
       "3              $103.08                        9\n",
       "4             ($566.50)                       1"
      ]
     },
     "execution_count": 11,
     "metadata": {},
     "output_type": "execute_result"
    }
   ],
   "source": [
    "data.head()"
   ]
  },
  {
   "cell_type": "code",
   "execution_count": 12,
   "metadata": {
    "collapsed": true
   },
   "outputs": [],
   "source": [
    "#we notice from viewing the data that sales data is not numeric and also negative values are within parentheses. \n",
    "#let's use regular expressions to fix this, by first making a column for negative values\n",
    "data['neg']=data.campaign_period_sales.str.contains('(',regex=False).values\n",
    "data['neg']=data['neg'].map({False:1,True:-1})"
   ]
  },
  {
   "cell_type": "code",
   "execution_count": 13,
   "metadata": {
    "collapsed": false
   },
   "outputs": [
    {
     "data": {
      "text/html": [
       "<div>\n",
       "<table border=\"1\" class=\"dataframe\">\n",
       "  <thead>\n",
       "    <tr style=\"text-align: right;\">\n",
       "      <th></th>\n",
       "      <th>campaign_period_sales</th>\n",
       "      <th>number_of_transactions</th>\n",
       "      <th>neg</th>\n",
       "    </tr>\n",
       "  </thead>\n",
       "  <tbody>\n",
       "    <tr>\n",
       "      <th>0</th>\n",
       "      <td>$107.16</td>\n",
       "      <td>20</td>\n",
       "      <td>1</td>\n",
       "    </tr>\n",
       "    <tr>\n",
       "      <th>1</th>\n",
       "      <td>$110.66</td>\n",
       "      <td>2</td>\n",
       "      <td>1</td>\n",
       "    </tr>\n",
       "    <tr>\n",
       "      <th>2</th>\n",
       "      <td>$4,697.62</td>\n",
       "      <td>12</td>\n",
       "      <td>1</td>\n",
       "    </tr>\n",
       "    <tr>\n",
       "      <th>3</th>\n",
       "      <td>$103.08</td>\n",
       "      <td>9</td>\n",
       "      <td>1</td>\n",
       "    </tr>\n",
       "    <tr>\n",
       "      <th>4</th>\n",
       "      <td>($566.50)</td>\n",
       "      <td>1</td>\n",
       "      <td>-1</td>\n",
       "    </tr>\n",
       "  </tbody>\n",
       "</table>\n",
       "</div>"
      ],
      "text/plain": [
       "  campaign_period_sales  number_of_transactions  neg\n",
       "0              $107.16                       20    1\n",
       "1              $110.66                        2    1\n",
       "2            $4,697.62                       12    1\n",
       "3              $103.08                        9    1\n",
       "4             ($566.50)                       1   -1"
      ]
     },
     "execution_count": 13,
     "metadata": {},
     "output_type": "execute_result"
    }
   ],
   "source": [
    "#now let's look at that negavive value column\n",
    "data.head()"
   ]
  },
  {
   "cell_type": "code",
   "execution_count": 14,
   "metadata": {
    "collapsed": true
   },
   "outputs": [],
   "source": [
    "#let's change take out the parentheses and replace with a negative value\n",
    "data['campaign_period_sales']=data['campaign_period_sales'].str.extract(r'([\\d,]+.\\d+)',expand=False).str.replace(',','').astype(float)\n",
    "data['campaign_period_sales']=data['campaign_period_sales']*data['neg']"
   ]
  },
  {
   "cell_type": "code",
   "execution_count": 15,
   "metadata": {
    "collapsed": false
   },
   "outputs": [
    {
     "data": {
      "text/html": [
       "<div>\n",
       "<table border=\"1\" class=\"dataframe\">\n",
       "  <thead>\n",
       "    <tr style=\"text-align: right;\">\n",
       "      <th></th>\n",
       "      <th>campaign_period_sales</th>\n",
       "      <th>number_of_transactions</th>\n",
       "      <th>neg</th>\n",
       "    </tr>\n",
       "  </thead>\n",
       "  <tbody>\n",
       "    <tr>\n",
       "      <th>0</th>\n",
       "      <td>107.16</td>\n",
       "      <td>20</td>\n",
       "      <td>1</td>\n",
       "    </tr>\n",
       "    <tr>\n",
       "      <th>1</th>\n",
       "      <td>110.66</td>\n",
       "      <td>2</td>\n",
       "      <td>1</td>\n",
       "    </tr>\n",
       "    <tr>\n",
       "      <th>2</th>\n",
       "      <td>4697.62</td>\n",
       "      <td>12</td>\n",
       "      <td>1</td>\n",
       "    </tr>\n",
       "    <tr>\n",
       "      <th>3</th>\n",
       "      <td>103.08</td>\n",
       "      <td>9</td>\n",
       "      <td>1</td>\n",
       "    </tr>\n",
       "    <tr>\n",
       "      <th>4</th>\n",
       "      <td>-566.50</td>\n",
       "      <td>1</td>\n",
       "      <td>-1</td>\n",
       "    </tr>\n",
       "  </tbody>\n",
       "</table>\n",
       "</div>"
      ],
      "text/plain": [
       "   campaign_period_sales  number_of_transactions  neg\n",
       "0                 107.16                      20    1\n",
       "1                 110.66                       2    1\n",
       "2                4697.62                      12    1\n",
       "3                 103.08                       9    1\n",
       "4                -566.50                       1   -1"
      ]
     },
     "execution_count": 15,
     "metadata": {},
     "output_type": "execute_result"
    }
   ],
   "source": [
    "data.head()"
   ]
  },
  {
   "cell_type": "code",
   "execution_count": 16,
   "metadata": {
    "collapsed": true
   },
   "outputs": [],
   "source": [
    "#ok our data looks good, so we can remove the neg column\n",
    "data.drop(['neg'], axis='columns', inplace=True)"
   ]
  },
  {
   "cell_type": "code",
   "execution_count": 17,
   "metadata": {
    "collapsed": false
   },
   "outputs": [
    {
     "data": {
      "text/html": [
       "<div>\n",
       "<table border=\"1\" class=\"dataframe\">\n",
       "  <thead>\n",
       "    <tr style=\"text-align: right;\">\n",
       "      <th></th>\n",
       "      <th>campaign_period_sales</th>\n",
       "      <th>number_of_transactions</th>\n",
       "    </tr>\n",
       "  </thead>\n",
       "  <tbody>\n",
       "    <tr>\n",
       "      <th>0</th>\n",
       "      <td>107.16</td>\n",
       "      <td>20</td>\n",
       "    </tr>\n",
       "    <tr>\n",
       "      <th>1</th>\n",
       "      <td>110.66</td>\n",
       "      <td>2</td>\n",
       "    </tr>\n",
       "    <tr>\n",
       "      <th>2</th>\n",
       "      <td>4697.62</td>\n",
       "      <td>12</td>\n",
       "    </tr>\n",
       "    <tr>\n",
       "      <th>3</th>\n",
       "      <td>103.08</td>\n",
       "      <td>9</td>\n",
       "    </tr>\n",
       "    <tr>\n",
       "      <th>4</th>\n",
       "      <td>-566.50</td>\n",
       "      <td>1</td>\n",
       "    </tr>\n",
       "  </tbody>\n",
       "</table>\n",
       "</div>"
      ],
      "text/plain": [
       "   campaign_period_sales  number_of_transactions\n",
       "0                 107.16                      20\n",
       "1                 110.66                       2\n",
       "2                4697.62                      12\n",
       "3                 103.08                       9\n",
       "4                -566.50                       1"
      ]
     },
     "execution_count": 17,
     "metadata": {},
     "output_type": "execute_result"
    }
   ],
   "source": [
    "data.head()"
   ]
  },
  {
   "cell_type": "code",
   "execution_count": 18,
   "metadata": {
    "collapsed": true
   },
   "outputs": [],
   "source": [
    "#now lets shorten the column names\n",
    "data.rename(columns={'campaign_period_sales':'sales','number_of_transactions':'transactions'},inplace=True)"
   ]
  },
  {
   "cell_type": "code",
   "execution_count": 19,
   "metadata": {
    "collapsed": false
   },
   "outputs": [
    {
     "data": {
      "text/html": [
       "<div>\n",
       "<table border=\"1\" class=\"dataframe\">\n",
       "  <thead>\n",
       "    <tr style=\"text-align: right;\">\n",
       "      <th></th>\n",
       "      <th>sales</th>\n",
       "      <th>transactions</th>\n",
       "    </tr>\n",
       "  </thead>\n",
       "  <tbody>\n",
       "    <tr>\n",
       "      <th>0</th>\n",
       "      <td>107.16</td>\n",
       "      <td>20</td>\n",
       "    </tr>\n",
       "    <tr>\n",
       "      <th>1</th>\n",
       "      <td>110.66</td>\n",
       "      <td>2</td>\n",
       "    </tr>\n",
       "    <tr>\n",
       "      <th>2</th>\n",
       "      <td>4697.62</td>\n",
       "      <td>12</td>\n",
       "    </tr>\n",
       "    <tr>\n",
       "      <th>3</th>\n",
       "      <td>103.08</td>\n",
       "      <td>9</td>\n",
       "    </tr>\n",
       "    <tr>\n",
       "      <th>4</th>\n",
       "      <td>-566.50</td>\n",
       "      <td>1</td>\n",
       "    </tr>\n",
       "  </tbody>\n",
       "</table>\n",
       "</div>"
      ],
      "text/plain": [
       "     sales  transactions\n",
       "0   107.16            20\n",
       "1   110.66             2\n",
       "2  4697.62            12\n",
       "3   103.08             9\n",
       "4  -566.50             1"
      ]
     },
     "execution_count": 19,
     "metadata": {},
     "output_type": "execute_result"
    }
   ],
   "source": [
    "data.head()"
   ]
  },
  {
   "cell_type": "code",
   "execution_count": 20,
   "metadata": {
    "collapsed": false
   },
   "outputs": [
    {
     "data": {
      "text/html": [
       "<div>\n",
       "<table border=\"1\" class=\"dataframe\">\n",
       "  <thead>\n",
       "    <tr style=\"text-align: right;\">\n",
       "      <th></th>\n",
       "      <th>sales</th>\n",
       "      <th>transactions</th>\n",
       "    </tr>\n",
       "  </thead>\n",
       "  <tbody>\n",
       "    <tr>\n",
       "      <th>count</th>\n",
       "      <td>46407.000000</td>\n",
       "      <td>46407.000000</td>\n",
       "    </tr>\n",
       "    <tr>\n",
       "      <th>mean</th>\n",
       "      <td>999.040725</td>\n",
       "      <td>13.591075</td>\n",
       "    </tr>\n",
       "    <tr>\n",
       "      <th>std</th>\n",
       "      <td>1186.011301</td>\n",
       "      <td>7.451356</td>\n",
       "    </tr>\n",
       "    <tr>\n",
       "      <th>min</th>\n",
       "      <td>-919.830000</td>\n",
       "      <td>1.000000</td>\n",
       "    </tr>\n",
       "    <tr>\n",
       "      <th>25%</th>\n",
       "      <td>280.590000</td>\n",
       "      <td>7.000000</td>\n",
       "    </tr>\n",
       "    <tr>\n",
       "      <th>50%</th>\n",
       "      <td>446.670000</td>\n",
       "      <td>15.000000</td>\n",
       "    </tr>\n",
       "    <tr>\n",
       "      <th>75%</th>\n",
       "      <td>1236.900000</td>\n",
       "      <td>19.000000</td>\n",
       "    </tr>\n",
       "    <tr>\n",
       "      <th>max</th>\n",
       "      <td>11069.760000</td>\n",
       "      <td>66.000000</td>\n",
       "    </tr>\n",
       "  </tbody>\n",
       "</table>\n",
       "</div>"
      ],
      "text/plain": [
       "              sales  transactions\n",
       "count  46407.000000  46407.000000\n",
       "mean     999.040725     13.591075\n",
       "std     1186.011301      7.451356\n",
       "min     -919.830000      1.000000\n",
       "25%      280.590000      7.000000\n",
       "50%      446.670000     15.000000\n",
       "75%     1236.900000     19.000000\n",
       "max    11069.760000     66.000000"
      ]
     },
     "execution_count": 20,
     "metadata": {},
     "output_type": "execute_result"
    }
   ],
   "source": [
    "#the data is properly formatted, so let's look at some statistics on the data\n",
    "data.describe()"
   ]
  },
  {
   "cell_type": "code",
   "execution_count": 21,
   "metadata": {
    "collapsed": false
   },
   "outputs": [
    {
     "data": {
      "image/png": "[encoded data removed]",
      "text/plain": [
       "<matplotlib.figure.Figure at 0x11e5ce6a0>"
      ]
     },
     "metadata": {},
     "output_type": "display_data"
    }
   ],
   "source": [
    "#now lets visualize the pop mean \n",
    "plt. hist(data['sales'], bins = 40)\n",
    "plt.ylim(*plt.ylim())\n",
    "plt.vlines(np.mean(data['sales']), *plt.ylim(), label = \"True Mean = \" + str(round(np.mean(data['sales']),2)))\n",
    "plt.legend();"
   ]
  },
  {
   "cell_type": "code",
   "execution_count": 22,
   "metadata": {
    "collapsed": false
   },
   "outputs": [
    {
     "name": "stdout",
     "output_type": "stream",
     "text": [
      "Sample Means:  [1058.2409, 1128.8107, 928.8407, 1072.1818000000003, 889.7621000000003] \n",
      "\n"
     ]
    }
   ],
   "source": [
    "#we see from the summary stastics that the population mean for sales is approximately 1000. \n",
    "#let's take samples from this dataset and see if we can approxiamte the pop mean using samples\n",
    "sample_means=[]\n",
    "for i in range(10000):\n",
    "    sample=np.random.choice(data['sales'],size=100,replace=False)\n",
    "    sample_means.append(np.mean(sample))\n",
    "print('Sample Means: ', sample_means[:5], '\\n')"
   ]
  },
  {
   "cell_type": "code",
   "execution_count": 23,
   "metadata": {
    "collapsed": false
   },
   "outputs": [
    {
     "data": {
      "image/png": "[encoded data removed]",
      "text/plain": [
       "<matplotlib.figure.Figure at 0x11e5ce198>"
      ]
     },
     "metadata": {},
     "output_type": "display_data"
    }
   ],
   "source": [
    "#from the sample means we can see that values are approximately 1000 falling either a little bit above or below\n",
    "#let's now get a visualization of these sample means and compare it to a standard normal distribution \n",
    "_, (ax1,ax2)=plt.subplots(1,2,figsize=(10,5))\n",
    "ax1.hist(sample_means,bins=80)\n",
    "ax1.set_title('Mean Sales; Calculated from samples');\n",
    "ax2.hist(np.random.normal(size=10000),bins=80)\n",
    "ax2.set_title('Draws from Standard Normal: $\\mu=0$');"
   ]
  },
  {
   "cell_type": "code",
   "execution_count": 24,
   "metadata": {
    "collapsed": false
   },
   "outputs": [
    {
     "data": {
      "image/png": "[encoded data removed]",
      "text/plain": [
       "<matplotlib.figure.Figure at 0x11e1e29b0>"
      ]
     },
     "metadata": {},
     "output_type": "display_data"
    }
   ],
   "source": [
    "#let's visualize where the pop mean falls within the sample means\n",
    "plt.hist(sample_means, bins = 40)\n",
    "plt.ylim(*plt.ylim())\n",
    "plt.vlines(np.mean(data['sales']), *plt.ylim(), label = \"True Mean = \" + str(round(np.mean(data['sales']),2)))\n",
    "plt.legend();"
   ]
  },
  {
   "cell_type": "code",
   "execution_count": 25,
   "metadata": {
    "collapsed": false
   },
   "outputs": [
    {
     "name": "stdout",
     "output_type": "stream",
     "text": [
      "Total non-negative sales:  46368\n",
      "Ratio of non-negative sales:  0.9991596095416639\n"
     ]
    }
   ],
   "source": [
    "#now we would like to see the number of negative sales from the data and also the number of sales at which the company\n",
    "#breaks-even given a break-even sales amount of $250\n",
    "sales=data['sales']\n",
    "print('Total non-negative sales: ', len(sales[sales>=0]))\n",
    "print('Ratio of non-negative sales: ', len(sales[sales>=0])/len(sales))"
   ]
  },
  {
   "cell_type": "code",
   "execution_count": 26,
   "metadata": {
    "collapsed": false
   },
   "outputs": [
    {
     "name": "stdout",
     "output_type": "stream",
     "text": [
      "Total break-even sales:  37356\n",
      "Ratio of break-even sales:  0.8049647682461698\n"
     ]
    }
   ],
   "source": [
    "#from the above calculation we can see that the ratio of non-negative sales is considerably low at .99 so less than 1% of total sales\n",
    "#now let's look at the number of break-even sales figures\n",
    "print('Total break-even sales: ', len(sales[sales>=250]))\n",
    "print('Ratio of break-even sales: ', len(sales[sales>=250])/len(sales))"
   ]
  },
  {
   "cell_type": "code",
   "execution_count": 27,
   "metadata": {
    "collapsed": false
   },
   "outputs": [
    {
     "name": "stdout",
     "output_type": "stream",
     "text": [
      "Value of pmf for 0 (failure):  0.19999999999999998 \n",
      "Value of pmf for 1 (success): 0.8\n"
     ]
    },
    {
     "data": {
      "image/png": "[encoded data removed]",
      "text/plain": [
       "<matplotlib.figure.Figure at 0x11f5b5da0>"
      ]
     },
     "metadata": {},
     "output_type": "display_data"
    }
   ],
   "source": [
    "#from this calculation the break-even estimate is approximately .8 \n",
    "#so the probablity of a random sale breaking-even is .8 which is considerably high\n",
    "#let's visualize this probability using a Bernoulli Distribution \n",
    "\n",
    "p = 0.8  # Rough probability of an account breaking even\n",
    "\n",
    "print(\"Value of pmf for 0 (failure): \", stats.bernoulli.pmf(0,p),\n",
    "     \"\\nValue of pmf for 1 (success):\", stats.bernoulli.pmf(1,p)) # Print out values\n",
    "\n",
    "plt.plot(0, stats.bernoulli.pmf(0, p), 'bo', ms=8) # Plot a point\n",
    "plt.vlines(0, 0, stats.bernoulli.pmf(0, p), colors='b', lw=5, alpha=0.5) # Plot line going up to that point\n",
    "\n",
    "plt.plot(1, stats.bernoulli.pmf(1, p), 'bo', ms=8) # Plot a point\n",
    "plt.vlines(1, 0, stats.bernoulli.pmf(1, p), colors='b', lw=5, alpha=0.5) # Plot line going up to that point\n",
    "plt.title(\"Bernoulli Prob Distribution of account break-even\");"
   ]
  },
  {
   "cell_type": "code",
   "execution_count": 28,
   "metadata": {
    "collapsed": false
   },
   "outputs": [
    {
     "data": {
      "image/png": "[encoded data removed]",
      "text/plain": [
       "<matplotlib.figure.Figure at 0x11f46a128>"
      ]
     },
     "metadata": {},
     "output_type": "display_data"
    }
   ],
   "source": [
    "#now let's compute a binomial distribution and visualize it \n",
    "#the below cell will create two over-lapping bar-graphs. One, in blue, will be our observed binomial distribution, taken from the office data. \n",
    "#in red will be the actual pmf of a binomial distribution parameterized by p = ~.801 and n = 100 (multiplied by 10,000).\n",
    "bin_sample = []\n",
    "\n",
    "# Run code 10000 times\n",
    "for i in range(10000):\n",
    "    # Take 100 samples from \"sales\"\n",
    "    sample = np.random.choice(data['sales'], size = 100, replace = True)\n",
    "    \n",
    "    # Only keep observations greater than 250\n",
    "    break_even = [s for s in sample if s >=250]\n",
    "    \n",
    "    # Count remaining observations\n",
    "    bin_sample.append(len(break_even))\n",
    "    \n",
    "# Counting up the instances of each number of successes for the bar plot.\n",
    "bin_sample_counts = pd.Series(bin_sample).value_counts()\n",
    "plt.bar(bin_sample_counts.index, bin_sample_counts, color = \"blue\", alpha = .4)\n",
    "\n",
    "# Creating the binomial data, such that it looks the same as our \"observed\" data\n",
    "binom_pmf = {}\n",
    "for i in range(60,96):\n",
    "    binom_pmf[i] = stats.binom.pmf(i,100,len(sales[sales>=250])/len(sales),  )*10000\n",
    "    \n",
    "binom_pmf_ser=pd.Series(binom_pmf)\n",
    "\n",
    "plt.bar(binom_pmf_ser.index, binom_pmf_ser, color = \"red\", alpha = .4);"
   ]
  },
  {
   "cell_type": "code",
   "execution_count": null,
   "metadata": {
    "collapsed": true
   },
   "outputs": [],
   "source": []
  }
 ],
 "metadata": {
  "kernelspec": {
   "display_name": "Python 3",
   "language": "python",
   "name": "python3"
  },
  "language_info": {
   "codemirror_mode": {
    "name": "ipython",
    "version": 3
   },
   "file_extension": ".py",
   "mimetype": "text/x-python",
   "name": "python",
   "nbconvert_exporter": "python",
   "pygments_lexer": "ipython3",
   "version": "3.6.0"
  }
 },
 "nbformat": 4,
 "nbformat_minor": 2
}
